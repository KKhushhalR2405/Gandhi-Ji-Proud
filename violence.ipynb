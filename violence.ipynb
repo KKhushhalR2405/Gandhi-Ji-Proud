{
  "nbformat": 4,
  "nbformat_minor": 0,
  "metadata": {
    "colab": {
      "name": "violence.ipynb",
      "provenance": [],
      "mount_file_id": "1KKuM1_EnTniKuc0bSU6GHq9oDCUKkemw",
      "authorship_tag": "ABX9TyNdOSk89KwLbfQ26bKzb3W1",
      "include_colab_link": true
    },
    "kernelspec": {
      "name": "python3",
      "display_name": "Python 3"
    },
    "accelerator": "GPU"
  },
  "cells": [
    {
      "cell_type": "markdown",
      "metadata": {
        "id": "view-in-github",
        "colab_type": "text"
      },
      "source": [
        "<a href=\"https://colab.research.google.com/github/KKhushhalR2405/Gandhi-Ji-Proud/blob/master/violence.ipynb\" target=\"_parent\"><img src=\"https://colab.research.google.com/assets/colab-badge.svg\" alt=\"Open In Colab\"/></a>"
      ]
    },
    {
      "cell_type": "code",
      "metadata": {
        "id": "wfbT5ZBctaqi",
        "colab": {
          "base_uri": "https://localhost:8080/"
        },
        "outputId": "869e1f95-0fb8-4604-d9e7-dff474ce6bd3"
      },
      "source": [
        "%cd \"/content/drive/MyDrive/projects/violence\""
      ],
      "execution_count": null,
      "outputs": [
        {
          "output_type": "stream",
          "text": [
            "/content/drive/MyDrive/projects/violence\n"
          ],
          "name": "stdout"
        }
      ]
    },
    {
      "cell_type": "code",
      "metadata": {
        "colab": {
          "base_uri": "https://localhost:8080/"
        },
        "id": "WLW8GcT4GJaj",
        "outputId": "57348325-b33a-4148-cbae-dae898e76af4"
      },
      "source": [
        "%ls"
      ],
      "execution_count": null,
      "outputs": [
        {
          "output_type": "stream",
          "text": [
            "\u001b[0m\u001b[01;34mdataset\u001b[0m/  dataset.zip  final_transfer.pt  violence.ipynb\n"
          ],
          "name": "stdout"
        }
      ]
    },
    {
      "cell_type": "code",
      "metadata": {
        "id": "02kzlf_UGLMt"
      },
      "source": [
        "#!unzip \"dataset.zip\""
      ],
      "execution_count": null,
      "outputs": []
    },
    {
      "cell_type": "code",
      "metadata": {
        "colab": {
          "base_uri": "https://localhost:8080/"
        },
        "id": "_lhaIVpnGdG9",
        "outputId": "83542f51-0e6d-4c23-dc14-70778858bf70"
      },
      "source": [
        "%ls"
      ],
      "execution_count": null,
      "outputs": [
        {
          "output_type": "stream",
          "text": [
            "\u001b[0m\u001b[01;34mdataset\u001b[0m/  dataset.zip  violence.ipynb\n"
          ],
          "name": "stdout"
        }
      ]
    },
    {
      "cell_type": "code",
      "metadata": {
        "id": "RrOdUOEOGtzd"
      },
      "source": [
        "import numpy as np\r\n",
        "from glob import glob"
      ],
      "execution_count": null,
      "outputs": []
    },
    {
      "cell_type": "code",
      "metadata": {
        "id": "48o3tRsNGxNH"
      },
      "source": [
        "import os\r\n",
        "from torchvision import datasets\r\n",
        "\r\n",
        "\r\n",
        "from torchvision import datasets\r\n",
        "import torchvision.transforms as transforms\r\n",
        "import torch\r\n",
        "import numpy as np\r\n",
        "from PIL import ImageFile\r\n",
        "ImageFile.LOAD_TRUNCATED_IMAGES = True\r\n",
        "\r\n",
        "\r\n",
        "\r\n",
        "batch_size = 10\r\n",
        "num_workers = 0\r\n",
        "\r\n",
        "data_dir = 'dataset'\r\n",
        "train_dir = os.path.join(data_dir, 'train/')\r\n",
        "valid_dir = os.path.join(data_dir, 'val/')"
      ],
      "execution_count": null,
      "outputs": []
    },
    {
      "cell_type": "code",
      "metadata": {
        "id": "Cf666KLRIIGL"
      },
      "source": [
        "standard_normalization = transforms.Normalize(mean=[0.485, 0.456, 0.406],\r\n",
        "                                              std=[0.229, 0.224, 0.225])\r\n",
        "\r\n",
        "data_transforms = {'train': transforms.Compose([transforms.RandomResizedCrop(224),\r\n",
        "                                     transforms.RandomHorizontalFlip(),\r\n",
        "                                     transforms.ToTensor(),\r\n",
        "                                     standard_normalization]),\r\n",
        "                   'val': transforms.Compose([transforms.Resize(256),\r\n",
        "                                     transforms.CenterCrop(224),\r\n",
        "                                     transforms.ToTensor(),\r\n",
        "                                     standard_normalization])}"
      ],
      "execution_count": null,
      "outputs": []
    },
    {
      "cell_type": "code",
      "metadata": {
        "id": "l8AYmVLMINcJ"
      },
      "source": [
        "train_data = datasets.ImageFolder(train_dir, transform=data_transforms['train'])\r\n",
        "valid_data = datasets.ImageFolder(valid_dir, transform=data_transforms['val'])"
      ],
      "execution_count": null,
      "outputs": []
    },
    {
      "cell_type": "code",
      "metadata": {
        "id": "D_p9PZlSIQ_x"
      },
      "source": [
        "train_loader = torch.utils.data.DataLoader(train_data,\r\n",
        "                                           batch_size=batch_size, \r\n",
        "                                           num_workers=num_workers,\r\n",
        "                                           shuffle=True)\r\n",
        "valid_loader = torch.utils.data.DataLoader(valid_data,\r\n",
        "                                           batch_size=batch_size, \r\n",
        "                                           num_workers=num_workers,\r\n",
        "                                           shuffle=False)"
      ],
      "execution_count": null,
      "outputs": []
    },
    {
      "cell_type": "code",
      "metadata": {
        "id": "Hhggg4AUIVyx"
      },
      "source": [
        "loaders_scratch = {\r\n",
        "    'train': train_loader,\r\n",
        "    'valid': valid_loader}"
      ],
      "execution_count": null,
      "outputs": []
    },
    {
      "cell_type": "code",
      "metadata": {
        "colab": {
          "base_uri": "https://localhost:8080/"
        },
        "id": "QsKqk_9PIX_h",
        "outputId": "c547951f-0f3f-455a-8927-e609f61d6405"
      },
      "source": [
        "torch.cuda.is_available()"
      ],
      "execution_count": null,
      "outputs": [
        {
          "output_type": "execute_result",
          "data": {
            "text/plain": [
              "True"
            ]
          },
          "metadata": {
            "tags": []
          },
          "execution_count": 20
        }
      ]
    },
    {
      "cell_type": "code",
      "metadata": {
        "id": "qwEXKK5LIblY"
      },
      "source": [
        "loaders_transfer = loaders_scratch.copy()\r\n",
        "\r\n",
        "\r\n",
        "use_cuda = torch.cuda.is_available()"
      ],
      "execution_count": null,
      "outputs": []
    },
    {
      "cell_type": "code",
      "metadata": {
        "id": "D621LJJ-Ie3a"
      },
      "source": [
        "import torch.nn as nn\r\n",
        "import torchvision.models as models\r\n",
        "\r\n",
        "## TODO: Specify model architecture \r\n",
        "model_transfer = models.resnet50(pretrained=True)\r\n",
        "\r\n",
        "for param in model_transfer.parameters():\r\n",
        "    param.requires_grad = False\r\n",
        "    \r\n",
        "model_transfer.fc = nn.Linear(2048, 2, bias=True)\r\n",
        "\r\n",
        "\r\n",
        "fc_parameters = model_transfer.fc.parameters()\r\n",
        "\r\n",
        "\r\n",
        "for param in fc_parameters:\r\n",
        "    param.requires_grad = True\r\n",
        "\r\n",
        "\r\n",
        "if use_cuda:\r\n",
        "    model_transfer = model_transfer.cuda()"
      ],
      "execution_count": null,
      "outputs": []
    },
    {
      "cell_type": "code",
      "metadata": {
        "colab": {
          "base_uri": "https://localhost:8080/"
        },
        "id": "O45mU54tInLq",
        "outputId": "a5c56776-9b64-40ed-9a73-bffb608b4409"
      },
      "source": [
        "model_transfer"
      ],
      "execution_count": null,
      "outputs": [
        {
          "output_type": "execute_result",
          "data": {
            "text/plain": [
              "ResNet(\n",
              "  (conv1): Conv2d(3, 64, kernel_size=(7, 7), stride=(2, 2), padding=(3, 3), bias=False)\n",
              "  (bn1): BatchNorm2d(64, eps=1e-05, momentum=0.1, affine=True, track_running_stats=True)\n",
              "  (relu): ReLU(inplace=True)\n",
              "  (maxpool): MaxPool2d(kernel_size=3, stride=2, padding=1, dilation=1, ceil_mode=False)\n",
              "  (layer1): Sequential(\n",
              "    (0): Bottleneck(\n",
              "      (conv1): Conv2d(64, 64, kernel_size=(1, 1), stride=(1, 1), bias=False)\n",
              "      (bn1): BatchNorm2d(64, eps=1e-05, momentum=0.1, affine=True, track_running_stats=True)\n",
              "      (conv2): Conv2d(64, 64, kernel_size=(3, 3), stride=(1, 1), padding=(1, 1), bias=False)\n",
              "      (bn2): BatchNorm2d(64, eps=1e-05, momentum=0.1, affine=True, track_running_stats=True)\n",
              "      (conv3): Conv2d(64, 256, kernel_size=(1, 1), stride=(1, 1), bias=False)\n",
              "      (bn3): BatchNorm2d(256, eps=1e-05, momentum=0.1, affine=True, track_running_stats=True)\n",
              "      (relu): ReLU(inplace=True)\n",
              "      (downsample): Sequential(\n",
              "        (0): Conv2d(64, 256, kernel_size=(1, 1), stride=(1, 1), bias=False)\n",
              "        (1): BatchNorm2d(256, eps=1e-05, momentum=0.1, affine=True, track_running_stats=True)\n",
              "      )\n",
              "    )\n",
              "    (1): Bottleneck(\n",
              "      (conv1): Conv2d(256, 64, kernel_size=(1, 1), stride=(1, 1), bias=False)\n",
              "      (bn1): BatchNorm2d(64, eps=1e-05, momentum=0.1, affine=True, track_running_stats=True)\n",
              "      (conv2): Conv2d(64, 64, kernel_size=(3, 3), stride=(1, 1), padding=(1, 1), bias=False)\n",
              "      (bn2): BatchNorm2d(64, eps=1e-05, momentum=0.1, affine=True, track_running_stats=True)\n",
              "      (conv3): Conv2d(64, 256, kernel_size=(1, 1), stride=(1, 1), bias=False)\n",
              "      (bn3): BatchNorm2d(256, eps=1e-05, momentum=0.1, affine=True, track_running_stats=True)\n",
              "      (relu): ReLU(inplace=True)\n",
              "    )\n",
              "    (2): Bottleneck(\n",
              "      (conv1): Conv2d(256, 64, kernel_size=(1, 1), stride=(1, 1), bias=False)\n",
              "      (bn1): BatchNorm2d(64, eps=1e-05, momentum=0.1, affine=True, track_running_stats=True)\n",
              "      (conv2): Conv2d(64, 64, kernel_size=(3, 3), stride=(1, 1), padding=(1, 1), bias=False)\n",
              "      (bn2): BatchNorm2d(64, eps=1e-05, momentum=0.1, affine=True, track_running_stats=True)\n",
              "      (conv3): Conv2d(64, 256, kernel_size=(1, 1), stride=(1, 1), bias=False)\n",
              "      (bn3): BatchNorm2d(256, eps=1e-05, momentum=0.1, affine=True, track_running_stats=True)\n",
              "      (relu): ReLU(inplace=True)\n",
              "    )\n",
              "  )\n",
              "  (layer2): Sequential(\n",
              "    (0): Bottleneck(\n",
              "      (conv1): Conv2d(256, 128, kernel_size=(1, 1), stride=(1, 1), bias=False)\n",
              "      (bn1): BatchNorm2d(128, eps=1e-05, momentum=0.1, affine=True, track_running_stats=True)\n",
              "      (conv2): Conv2d(128, 128, kernel_size=(3, 3), stride=(2, 2), padding=(1, 1), bias=False)\n",
              "      (bn2): BatchNorm2d(128, eps=1e-05, momentum=0.1, affine=True, track_running_stats=True)\n",
              "      (conv3): Conv2d(128, 512, kernel_size=(1, 1), stride=(1, 1), bias=False)\n",
              "      (bn3): BatchNorm2d(512, eps=1e-05, momentum=0.1, affine=True, track_running_stats=True)\n",
              "      (relu): ReLU(inplace=True)\n",
              "      (downsample): Sequential(\n",
              "        (0): Conv2d(256, 512, kernel_size=(1, 1), stride=(2, 2), bias=False)\n",
              "        (1): BatchNorm2d(512, eps=1e-05, momentum=0.1, affine=True, track_running_stats=True)\n",
              "      )\n",
              "    )\n",
              "    (1): Bottleneck(\n",
              "      (conv1): Conv2d(512, 128, kernel_size=(1, 1), stride=(1, 1), bias=False)\n",
              "      (bn1): BatchNorm2d(128, eps=1e-05, momentum=0.1, affine=True, track_running_stats=True)\n",
              "      (conv2): Conv2d(128, 128, kernel_size=(3, 3), stride=(1, 1), padding=(1, 1), bias=False)\n",
              "      (bn2): BatchNorm2d(128, eps=1e-05, momentum=0.1, affine=True, track_running_stats=True)\n",
              "      (conv3): Conv2d(128, 512, kernel_size=(1, 1), stride=(1, 1), bias=False)\n",
              "      (bn3): BatchNorm2d(512, eps=1e-05, momentum=0.1, affine=True, track_running_stats=True)\n",
              "      (relu): ReLU(inplace=True)\n",
              "    )\n",
              "    (2): Bottleneck(\n",
              "      (conv1): Conv2d(512, 128, kernel_size=(1, 1), stride=(1, 1), bias=False)\n",
              "      (bn1): BatchNorm2d(128, eps=1e-05, momentum=0.1, affine=True, track_running_stats=True)\n",
              "      (conv2): Conv2d(128, 128, kernel_size=(3, 3), stride=(1, 1), padding=(1, 1), bias=False)\n",
              "      (bn2): BatchNorm2d(128, eps=1e-05, momentum=0.1, affine=True, track_running_stats=True)\n",
              "      (conv3): Conv2d(128, 512, kernel_size=(1, 1), stride=(1, 1), bias=False)\n",
              "      (bn3): BatchNorm2d(512, eps=1e-05, momentum=0.1, affine=True, track_running_stats=True)\n",
              "      (relu): ReLU(inplace=True)\n",
              "    )\n",
              "    (3): Bottleneck(\n",
              "      (conv1): Conv2d(512, 128, kernel_size=(1, 1), stride=(1, 1), bias=False)\n",
              "      (bn1): BatchNorm2d(128, eps=1e-05, momentum=0.1, affine=True, track_running_stats=True)\n",
              "      (conv2): Conv2d(128, 128, kernel_size=(3, 3), stride=(1, 1), padding=(1, 1), bias=False)\n",
              "      (bn2): BatchNorm2d(128, eps=1e-05, momentum=0.1, affine=True, track_running_stats=True)\n",
              "      (conv3): Conv2d(128, 512, kernel_size=(1, 1), stride=(1, 1), bias=False)\n",
              "      (bn3): BatchNorm2d(512, eps=1e-05, momentum=0.1, affine=True, track_running_stats=True)\n",
              "      (relu): ReLU(inplace=True)\n",
              "    )\n",
              "  )\n",
              "  (layer3): Sequential(\n",
              "    (0): Bottleneck(\n",
              "      (conv1): Conv2d(512, 256, kernel_size=(1, 1), stride=(1, 1), bias=False)\n",
              "      (bn1): BatchNorm2d(256, eps=1e-05, momentum=0.1, affine=True, track_running_stats=True)\n",
              "      (conv2): Conv2d(256, 256, kernel_size=(3, 3), stride=(2, 2), padding=(1, 1), bias=False)\n",
              "      (bn2): BatchNorm2d(256, eps=1e-05, momentum=0.1, affine=True, track_running_stats=True)\n",
              "      (conv3): Conv2d(256, 1024, kernel_size=(1, 1), stride=(1, 1), bias=False)\n",
              "      (bn3): BatchNorm2d(1024, eps=1e-05, momentum=0.1, affine=True, track_running_stats=True)\n",
              "      (relu): ReLU(inplace=True)\n",
              "      (downsample): Sequential(\n",
              "        (0): Conv2d(512, 1024, kernel_size=(1, 1), stride=(2, 2), bias=False)\n",
              "        (1): BatchNorm2d(1024, eps=1e-05, momentum=0.1, affine=True, track_running_stats=True)\n",
              "      )\n",
              "    )\n",
              "    (1): Bottleneck(\n",
              "      (conv1): Conv2d(1024, 256, kernel_size=(1, 1), stride=(1, 1), bias=False)\n",
              "      (bn1): BatchNorm2d(256, eps=1e-05, momentum=0.1, affine=True, track_running_stats=True)\n",
              "      (conv2): Conv2d(256, 256, kernel_size=(3, 3), stride=(1, 1), padding=(1, 1), bias=False)\n",
              "      (bn2): BatchNorm2d(256, eps=1e-05, momentum=0.1, affine=True, track_running_stats=True)\n",
              "      (conv3): Conv2d(256, 1024, kernel_size=(1, 1), stride=(1, 1), bias=False)\n",
              "      (bn3): BatchNorm2d(1024, eps=1e-05, momentum=0.1, affine=True, track_running_stats=True)\n",
              "      (relu): ReLU(inplace=True)\n",
              "    )\n",
              "    (2): Bottleneck(\n",
              "      (conv1): Conv2d(1024, 256, kernel_size=(1, 1), stride=(1, 1), bias=False)\n",
              "      (bn1): BatchNorm2d(256, eps=1e-05, momentum=0.1, affine=True, track_running_stats=True)\n",
              "      (conv2): Conv2d(256, 256, kernel_size=(3, 3), stride=(1, 1), padding=(1, 1), bias=False)\n",
              "      (bn2): BatchNorm2d(256, eps=1e-05, momentum=0.1, affine=True, track_running_stats=True)\n",
              "      (conv3): Conv2d(256, 1024, kernel_size=(1, 1), stride=(1, 1), bias=False)\n",
              "      (bn3): BatchNorm2d(1024, eps=1e-05, momentum=0.1, affine=True, track_running_stats=True)\n",
              "      (relu): ReLU(inplace=True)\n",
              "    )\n",
              "    (3): Bottleneck(\n",
              "      (conv1): Conv2d(1024, 256, kernel_size=(1, 1), stride=(1, 1), bias=False)\n",
              "      (bn1): BatchNorm2d(256, eps=1e-05, momentum=0.1, affine=True, track_running_stats=True)\n",
              "      (conv2): Conv2d(256, 256, kernel_size=(3, 3), stride=(1, 1), padding=(1, 1), bias=False)\n",
              "      (bn2): BatchNorm2d(256, eps=1e-05, momentum=0.1, affine=True, track_running_stats=True)\n",
              "      (conv3): Conv2d(256, 1024, kernel_size=(1, 1), stride=(1, 1), bias=False)\n",
              "      (bn3): BatchNorm2d(1024, eps=1e-05, momentum=0.1, affine=True, track_running_stats=True)\n",
              "      (relu): ReLU(inplace=True)\n",
              "    )\n",
              "    (4): Bottleneck(\n",
              "      (conv1): Conv2d(1024, 256, kernel_size=(1, 1), stride=(1, 1), bias=False)\n",
              "      (bn1): BatchNorm2d(256, eps=1e-05, momentum=0.1, affine=True, track_running_stats=True)\n",
              "      (conv2): Conv2d(256, 256, kernel_size=(3, 3), stride=(1, 1), padding=(1, 1), bias=False)\n",
              "      (bn2): BatchNorm2d(256, eps=1e-05, momentum=0.1, affine=True, track_running_stats=True)\n",
              "      (conv3): Conv2d(256, 1024, kernel_size=(1, 1), stride=(1, 1), bias=False)\n",
              "      (bn3): BatchNorm2d(1024, eps=1e-05, momentum=0.1, affine=True, track_running_stats=True)\n",
              "      (relu): ReLU(inplace=True)\n",
              "    )\n",
              "    (5): Bottleneck(\n",
              "      (conv1): Conv2d(1024, 256, kernel_size=(1, 1), stride=(1, 1), bias=False)\n",
              "      (bn1): BatchNorm2d(256, eps=1e-05, momentum=0.1, affine=True, track_running_stats=True)\n",
              "      (conv2): Conv2d(256, 256, kernel_size=(3, 3), stride=(1, 1), padding=(1, 1), bias=False)\n",
              "      (bn2): BatchNorm2d(256, eps=1e-05, momentum=0.1, affine=True, track_running_stats=True)\n",
              "      (conv3): Conv2d(256, 1024, kernel_size=(1, 1), stride=(1, 1), bias=False)\n",
              "      (bn3): BatchNorm2d(1024, eps=1e-05, momentum=0.1, affine=True, track_running_stats=True)\n",
              "      (relu): ReLU(inplace=True)\n",
              "    )\n",
              "  )\n",
              "  (layer4): Sequential(\n",
              "    (0): Bottleneck(\n",
              "      (conv1): Conv2d(1024, 512, kernel_size=(1, 1), stride=(1, 1), bias=False)\n",
              "      (bn1): BatchNorm2d(512, eps=1e-05, momentum=0.1, affine=True, track_running_stats=True)\n",
              "      (conv2): Conv2d(512, 512, kernel_size=(3, 3), stride=(2, 2), padding=(1, 1), bias=False)\n",
              "      (bn2): BatchNorm2d(512, eps=1e-05, momentum=0.1, affine=True, track_running_stats=True)\n",
              "      (conv3): Conv2d(512, 2048, kernel_size=(1, 1), stride=(1, 1), bias=False)\n",
              "      (bn3): BatchNorm2d(2048, eps=1e-05, momentum=0.1, affine=True, track_running_stats=True)\n",
              "      (relu): ReLU(inplace=True)\n",
              "      (downsample): Sequential(\n",
              "        (0): Conv2d(1024, 2048, kernel_size=(1, 1), stride=(2, 2), bias=False)\n",
              "        (1): BatchNorm2d(2048, eps=1e-05, momentum=0.1, affine=True, track_running_stats=True)\n",
              "      )\n",
              "    )\n",
              "    (1): Bottleneck(\n",
              "      (conv1): Conv2d(2048, 512, kernel_size=(1, 1), stride=(1, 1), bias=False)\n",
              "      (bn1): BatchNorm2d(512, eps=1e-05, momentum=0.1, affine=True, track_running_stats=True)\n",
              "      (conv2): Conv2d(512, 512, kernel_size=(3, 3), stride=(1, 1), padding=(1, 1), bias=False)\n",
              "      (bn2): BatchNorm2d(512, eps=1e-05, momentum=0.1, affine=True, track_running_stats=True)\n",
              "      (conv3): Conv2d(512, 2048, kernel_size=(1, 1), stride=(1, 1), bias=False)\n",
              "      (bn3): BatchNorm2d(2048, eps=1e-05, momentum=0.1, affine=True, track_running_stats=True)\n",
              "      (relu): ReLU(inplace=True)\n",
              "    )\n",
              "    (2): Bottleneck(\n",
              "      (conv1): Conv2d(2048, 512, kernel_size=(1, 1), stride=(1, 1), bias=False)\n",
              "      (bn1): BatchNorm2d(512, eps=1e-05, momentum=0.1, affine=True, track_running_stats=True)\n",
              "      (conv2): Conv2d(512, 512, kernel_size=(3, 3), stride=(1, 1), padding=(1, 1), bias=False)\n",
              "      (bn2): BatchNorm2d(512, eps=1e-05, momentum=0.1, affine=True, track_running_stats=True)\n",
              "      (conv3): Conv2d(512, 2048, kernel_size=(1, 1), stride=(1, 1), bias=False)\n",
              "      (bn3): BatchNorm2d(2048, eps=1e-05, momentum=0.1, affine=True, track_running_stats=True)\n",
              "      (relu): ReLU(inplace=True)\n",
              "    )\n",
              "  )\n",
              "  (avgpool): AdaptiveAvgPool2d(output_size=(1, 1))\n",
              "  (fc): Linear(in_features=2048, out_features=2, bias=True)\n",
              ")"
            ]
          },
          "metadata": {
            "tags": []
          },
          "execution_count": 16
        }
      ]
    },
    {
      "cell_type": "code",
      "metadata": {
        "id": "QKU641rdIyXi"
      },
      "source": [
        "import torch.optim as optim\r\n",
        "\r\n",
        "criterion_transfer = nn.CrossEntropyLoss()\r\n",
        "optimizer_transfer = optim.SGD(model_transfer.fc.parameters(), lr=0.001)"
      ],
      "execution_count": null,
      "outputs": []
    },
    {
      "cell_type": "code",
      "metadata": {
        "id": "7PZyTMAQI8jS"
      },
      "source": [
        "def train(n_epochs, loaders, model, optimizer, criterion, use_cuda, save_path):\r\n",
        "    \"\"\"returns trained model\"\"\"\r\n",
        "    # initialize tracker for minimum validation loss\r\n",
        "    valid_loss_min = np.Inf\r\n",
        "    \r\n",
        "    for epoch in range(1, n_epochs+1):\r\n",
        "        # initialize variables to monitor training and validation loss\r\n",
        "        train_loss = 0.0\r\n",
        "        valid_loss = 0.0\r\n",
        "        \r\n",
        "        ###################\r\n",
        "        # train the model #\r\n",
        "        ###################\r\n",
        "        model.train()\r\n",
        "        for batch_idx, (data, target) in enumerate(loaders['train']):\r\n",
        "            # move to GPU\r\n",
        "            if use_cuda:\r\n",
        "                data, target = data.cuda(), target.cuda()\r\n",
        "\r\n",
        "            # initialize weights to zero\r\n",
        "            optimizer.zero_grad()\r\n",
        "            \r\n",
        "            output = model(data)\r\n",
        "            \r\n",
        "            # calculate loss\r\n",
        "            loss = criterion(output, target)\r\n",
        "            \r\n",
        "            # back prop\r\n",
        "            loss.backward()\r\n",
        "            \r\n",
        "            # grad\r\n",
        "            optimizer.step()\r\n",
        "            \r\n",
        "            train_loss = train_loss + ((1 / (batch_idx + 1)) * (loss.data - train_loss))\r\n",
        "            \r\n",
        "            if batch_idx % 100 == 0:\r\n",
        "                print('Epoch %d, Batch %d loss: %.6f' %\r\n",
        "                  (epoch, batch_idx + 1, train_loss))\r\n",
        "        \r\n",
        "        ######################    \r\n",
        "        # validate the model #\r\n",
        "        ######################\r\n",
        "        model.eval()\r\n",
        "        for batch_idx, (data, target) in enumerate(loaders['valid']):\r\n",
        "            # move to GPU\r\n",
        "            if use_cuda:\r\n",
        "                data, target = data.cuda(), target.cuda()\r\n",
        "            ## update the average validation loss\r\n",
        "            output = model(data)\r\n",
        "            loss = criterion(output, target)\r\n",
        "            valid_loss = valid_loss + ((1 / (batch_idx + 1)) * (loss.data - valid_loss))\r\n",
        "\r\n",
        "            \r\n",
        "        # print training/validation statistics \r\n",
        "        print('Epoch: {} \\tTraining Loss: {:.6f} \\tValidation Loss: {:.6f}'.format(\r\n",
        "            epoch, \r\n",
        "            train_loss,\r\n",
        "            valid_loss\r\n",
        "            ))\r\n",
        "        \r\n",
        "        ## TODO: save the model if validation loss has decreased\r\n",
        "        if valid_loss < valid_loss_min:\r\n",
        "            torch.save(model.state_dict(), save_path)\r\n",
        "            print('Validation loss decreased ({:.6f} --> {:.6f}).  Saving model ...'.format(\r\n",
        "            valid_loss_min,\r\n",
        "            valid_loss))\r\n",
        "            valid_loss_min = valid_loss\r\n",
        "            \r\n",
        "    # return trained model\r\n",
        "    return model"
      ],
      "execution_count": null,
      "outputs": []
    },
    {
      "cell_type": "code",
      "metadata": {
        "colab": {
          "base_uri": "https://localhost:8080/"
        },
        "id": "WxJerZI1JAdq",
        "outputId": "b72941bb-2e68-4134-84c0-e683f6c426a9"
      },
      "source": [
        "train(100, loaders_transfer, model_transfer, optimizer_transfer, criterion_transfer, use_cuda, 'final_transfer.pt')"
      ],
      "execution_count": null,
      "outputs": [
        {
          "output_type": "stream",
          "text": [
            "Epoch 1, Batch 1 loss: 0.674026\n"
          ],
          "name": "stdout"
        },
        {
          "output_type": "stream",
          "text": [
            "/usr/local/lib/python3.6/dist-packages/PIL/TiffImagePlugin.py:788: UserWarning: Corrupt EXIF data.  Expecting to read 4 bytes but only got 0. \n",
            "  warnings.warn(str(msg))\n"
          ],
          "name": "stderr"
        },
        {
          "output_type": "stream",
          "text": [
            "Epoch: 1 \tTraining Loss: 0.678316 \tValidation Loss: 0.639752\n",
            "Validation loss decreased (inf --> 0.639752).  Saving model ...\n",
            "Epoch 2, Batch 1 loss: 0.645618\n",
            "Epoch: 2 \tTraining Loss: 0.613360 \tValidation Loss: 0.554488\n",
            "Validation loss decreased (0.639752 --> 0.554488).  Saving model ...\n",
            "Epoch 3, Batch 1 loss: 0.543892\n",
            "Epoch: 3 \tTraining Loss: 0.576435 \tValidation Loss: 0.520421\n",
            "Validation loss decreased (0.554488 --> 0.520421).  Saving model ...\n",
            "Epoch 4, Batch 1 loss: 0.534927\n",
            "Epoch: 4 \tTraining Loss: 0.537915 \tValidation Loss: 0.488552\n",
            "Validation loss decreased (0.520421 --> 0.488552).  Saving model ...\n",
            "Epoch 5, Batch 1 loss: 0.434100\n",
            "Epoch: 5 \tTraining Loss: 0.508365 \tValidation Loss: 0.437096\n",
            "Validation loss decreased (0.488552 --> 0.437096).  Saving model ...\n",
            "Epoch 6, Batch 1 loss: 0.400877\n",
            "Epoch: 6 \tTraining Loss: 0.485563 \tValidation Loss: 0.419891\n",
            "Validation loss decreased (0.437096 --> 0.419891).  Saving model ...\n",
            "Epoch 7, Batch 1 loss: 0.528128\n",
            "Epoch: 7 \tTraining Loss: 0.506579 \tValidation Loss: 0.453984\n",
            "Epoch 8, Batch 1 loss: 0.391602\n",
            "Epoch: 8 \tTraining Loss: 0.459143 \tValidation Loss: 0.390638\n",
            "Validation loss decreased (0.419891 --> 0.390638).  Saving model ...\n",
            "Epoch 9, Batch 1 loss: 0.360601\n",
            "Epoch: 9 \tTraining Loss: 0.466202 \tValidation Loss: 0.392705\n",
            "Epoch 10, Batch 1 loss: 0.433507\n",
            "Epoch: 10 \tTraining Loss: 0.437301 \tValidation Loss: 0.376212\n",
            "Validation loss decreased (0.390638 --> 0.376212).  Saving model ...\n",
            "Epoch 11, Batch 1 loss: 0.420773\n",
            "Epoch: 11 \tTraining Loss: 0.443182 \tValidation Loss: 0.369856\n",
            "Validation loss decreased (0.376212 --> 0.369856).  Saving model ...\n",
            "Epoch 12, Batch 1 loss: 0.480955\n",
            "Epoch: 12 \tTraining Loss: 0.439616 \tValidation Loss: 0.393270\n",
            "Epoch 13, Batch 1 loss: 0.274592\n",
            "Epoch: 13 \tTraining Loss: 0.436027 \tValidation Loss: 0.397197\n",
            "Epoch 14, Batch 1 loss: 0.591827\n",
            "Epoch: 14 \tTraining Loss: 0.432929 \tValidation Loss: 0.358998\n",
            "Validation loss decreased (0.369856 --> 0.358998).  Saving model ...\n",
            "Epoch 15, Batch 1 loss: 0.385970\n",
            "Epoch: 15 \tTraining Loss: 0.425995 \tValidation Loss: 0.352260\n",
            "Validation loss decreased (0.358998 --> 0.352260).  Saving model ...\n",
            "Epoch 16, Batch 1 loss: 0.219623\n",
            "Epoch: 16 \tTraining Loss: 0.424724 \tValidation Loss: 0.361981\n",
            "Epoch 17, Batch 1 loss: 0.408665\n",
            "Epoch: 17 \tTraining Loss: 0.418176 \tValidation Loss: 0.384785\n",
            "Epoch 18, Batch 1 loss: 0.445972\n",
            "Epoch: 18 \tTraining Loss: 0.401201 \tValidation Loss: 0.344223\n",
            "Validation loss decreased (0.352260 --> 0.344223).  Saving model ...\n",
            "Epoch 19, Batch 1 loss: 0.234661\n",
            "Epoch: 19 \tTraining Loss: 0.405330 \tValidation Loss: 0.343524\n",
            "Validation loss decreased (0.344223 --> 0.343524).  Saving model ...\n",
            "Epoch 20, Batch 1 loss: 0.577712\n",
            "Epoch: 20 \tTraining Loss: 0.407956 \tValidation Loss: 0.350253\n",
            "Epoch 21, Batch 1 loss: 0.412631\n",
            "Epoch: 21 \tTraining Loss: 0.391052 \tValidation Loss: 0.350480\n",
            "Epoch 22, Batch 1 loss: 0.171406\n",
            "Epoch: 22 \tTraining Loss: 0.402243 \tValidation Loss: 0.373679\n",
            "Epoch 23, Batch 1 loss: 0.504494\n",
            "Epoch: 23 \tTraining Loss: 0.362269 \tValidation Loss: 0.348458\n",
            "Epoch 24, Batch 1 loss: 0.185539\n",
            "Epoch: 24 \tTraining Loss: 0.413950 \tValidation Loss: 0.336554\n",
            "Validation loss decreased (0.343524 --> 0.336554).  Saving model ...\n",
            "Epoch 25, Batch 1 loss: 0.478015\n",
            "Epoch: 25 \tTraining Loss: 0.372832 \tValidation Loss: 0.337999\n",
            "Epoch 26, Batch 1 loss: 0.584955\n",
            "Epoch: 26 \tTraining Loss: 0.397021 \tValidation Loss: 0.343017\n",
            "Epoch 27, Batch 1 loss: 0.429455\n",
            "Epoch: 27 \tTraining Loss: 0.384534 \tValidation Loss: 0.346772\n",
            "Epoch 28, Batch 1 loss: 0.523092\n",
            "Epoch: 28 \tTraining Loss: 0.387244 \tValidation Loss: 0.359154\n",
            "Epoch 29, Batch 1 loss: 0.305381\n",
            "Epoch: 29 \tTraining Loss: 0.383816 \tValidation Loss: 0.329882\n",
            "Validation loss decreased (0.336554 --> 0.329882).  Saving model ...\n",
            "Epoch 30, Batch 1 loss: 0.521487\n",
            "Epoch: 30 \tTraining Loss: 0.394770 \tValidation Loss: 0.335567\n",
            "Epoch 31, Batch 1 loss: 0.492066\n",
            "Epoch: 31 \tTraining Loss: 0.385540 \tValidation Loss: 0.336672\n",
            "Epoch 32, Batch 1 loss: 0.395018\n",
            "Epoch: 32 \tTraining Loss: 0.369755 \tValidation Loss: 0.333366\n",
            "Epoch 33, Batch 1 loss: 0.391516\n",
            "Epoch: 33 \tTraining Loss: 0.395450 \tValidation Loss: 0.335562\n",
            "Epoch 34, Batch 1 loss: 0.211055\n",
            "Epoch: 34 \tTraining Loss: 0.382141 \tValidation Loss: 0.365015\n",
            "Epoch 35, Batch 1 loss: 0.418377\n",
            "Epoch: 35 \tTraining Loss: 0.364027 \tValidation Loss: 0.330865\n",
            "Epoch 36, Batch 1 loss: 0.504397\n",
            "Epoch: 36 \tTraining Loss: 0.390257 \tValidation Loss: 0.327848\n",
            "Validation loss decreased (0.329882 --> 0.327848).  Saving model ...\n",
            "Epoch 37, Batch 1 loss: 0.256786\n",
            "Epoch: 37 \tTraining Loss: 0.367403 \tValidation Loss: 0.336062\n",
            "Epoch 38, Batch 1 loss: 0.597218\n",
            "Epoch: 38 \tTraining Loss: 0.381494 \tValidation Loss: 0.351409\n",
            "Epoch 39, Batch 1 loss: 0.449641\n",
            "Epoch: 39 \tTraining Loss: 0.346507 \tValidation Loss: 0.334026\n",
            "Epoch 40, Batch 1 loss: 0.666112\n",
            "Epoch: 40 \tTraining Loss: 0.362522 \tValidation Loss: 0.329449\n",
            "Epoch 41, Batch 1 loss: 0.247733\n",
            "Epoch: 41 \tTraining Loss: 0.343511 \tValidation Loss: 0.325189\n",
            "Validation loss decreased (0.327848 --> 0.325189).  Saving model ...\n",
            "Epoch 42, Batch 1 loss: 0.669035\n",
            "Epoch: 42 \tTraining Loss: 0.357512 \tValidation Loss: 0.325441\n",
            "Epoch 43, Batch 1 loss: 0.427498\n",
            "Epoch: 43 \tTraining Loss: 0.363296 \tValidation Loss: 0.330211\n",
            "Epoch 44, Batch 1 loss: 0.435696\n",
            "Epoch: 44 \tTraining Loss: 0.362258 \tValidation Loss: 0.323091\n",
            "Validation loss decreased (0.325189 --> 0.323091).  Saving model ...\n",
            "Epoch 45, Batch 1 loss: 0.187358\n",
            "Epoch: 45 \tTraining Loss: 0.367849 \tValidation Loss: 0.315887\n",
            "Validation loss decreased (0.323091 --> 0.315887).  Saving model ...\n",
            "Epoch 46, Batch 1 loss: 0.302398\n",
            "Epoch: 46 \tTraining Loss: 0.362397 \tValidation Loss: 0.328404\n",
            "Epoch 47, Batch 1 loss: 0.147739\n",
            "Epoch: 47 \tTraining Loss: 0.333238 \tValidation Loss: 0.334482\n",
            "Epoch 48, Batch 1 loss: 0.577233\n",
            "Epoch: 48 \tTraining Loss: 0.359618 \tValidation Loss: 0.333816\n",
            "Epoch 49, Batch 1 loss: 0.323007\n",
            "Epoch: 49 \tTraining Loss: 0.362524 \tValidation Loss: 0.352053\n",
            "Epoch 50, Batch 1 loss: 0.408851\n",
            "Epoch: 50 \tTraining Loss: 0.369027 \tValidation Loss: 0.325105\n",
            "Epoch 51, Batch 1 loss: 0.628838\n",
            "Epoch: 51 \tTraining Loss: 0.350218 \tValidation Loss: 0.326661\n",
            "Epoch 52, Batch 1 loss: 0.210435\n",
            "Epoch: 52 \tTraining Loss: 0.330654 \tValidation Loss: 0.338992\n",
            "Epoch 53, Batch 1 loss: 0.426735\n",
            "Epoch: 53 \tTraining Loss: 0.347046 \tValidation Loss: 0.319748\n",
            "Epoch 54, Batch 1 loss: 0.239222\n",
            "Epoch: 54 \tTraining Loss: 0.335400 \tValidation Loss: 0.329646\n",
            "Epoch 55, Batch 1 loss: 0.242991\n",
            "Epoch: 55 \tTraining Loss: 0.327678 \tValidation Loss: 0.331481\n",
            "Epoch 56, Batch 1 loss: 0.277419\n",
            "Epoch: 56 \tTraining Loss: 0.363920 \tValidation Loss: 0.335209\n",
            "Epoch 57, Batch 1 loss: 0.129178\n",
            "Epoch: 57 \tTraining Loss: 0.341109 \tValidation Loss: 0.317651\n",
            "Epoch 58, Batch 1 loss: 0.201676\n",
            "Epoch: 58 \tTraining Loss: 0.365398 \tValidation Loss: 0.321916\n",
            "Epoch 59, Batch 1 loss: 0.320686\n",
            "Epoch: 59 \tTraining Loss: 0.334079 \tValidation Loss: 0.326898\n",
            "Epoch 60, Batch 1 loss: 0.310215\n",
            "Epoch: 60 \tTraining Loss: 0.333560 \tValidation Loss: 0.324242\n",
            "Epoch 61, Batch 1 loss: 0.341764\n",
            "Epoch: 61 \tTraining Loss: 0.339022 \tValidation Loss: 0.327899\n",
            "Epoch 62, Batch 1 loss: 0.427326\n",
            "Epoch: 62 \tTraining Loss: 0.371668 \tValidation Loss: 0.331161\n",
            "Epoch 63, Batch 1 loss: 0.397444\n",
            "Epoch: 63 \tTraining Loss: 0.335849 \tValidation Loss: 0.321283\n",
            "Epoch 64, Batch 1 loss: 0.195173\n",
            "Epoch: 64 \tTraining Loss: 0.360204 \tValidation Loss: 0.319041\n",
            "Epoch 65, Batch 1 loss: 0.227709\n",
            "Epoch: 65 \tTraining Loss: 0.338171 \tValidation Loss: 0.324254\n",
            "Epoch 66, Batch 1 loss: 0.129560\n",
            "Epoch: 66 \tTraining Loss: 0.340387 \tValidation Loss: 0.338486\n",
            "Epoch 67, Batch 1 loss: 0.261086\n",
            "Epoch: 67 \tTraining Loss: 0.346285 \tValidation Loss: 0.321061\n",
            "Epoch 68, Batch 1 loss: 0.468397\n",
            "Epoch: 68 \tTraining Loss: 0.338703 \tValidation Loss: 0.326906\n",
            "Epoch 69, Batch 1 loss: 0.228836\n",
            "Epoch: 69 \tTraining Loss: 0.351169 \tValidation Loss: 0.323257\n",
            "Epoch 70, Batch 1 loss: 0.135023\n",
            "Epoch: 70 \tTraining Loss: 0.377253 \tValidation Loss: 0.337777\n",
            "Epoch 71, Batch 1 loss: 0.550695\n",
            "Epoch: 71 \tTraining Loss: 0.358533 \tValidation Loss: 0.338861\n",
            "Epoch 72, Batch 1 loss: 0.566060\n",
            "Epoch: 72 \tTraining Loss: 0.362246 \tValidation Loss: 0.332083\n",
            "Epoch 73, Batch 1 loss: 0.189092\n",
            "Epoch: 73 \tTraining Loss: 0.316206 \tValidation Loss: 0.333197\n",
            "Epoch 74, Batch 1 loss: 0.343478\n",
            "Epoch: 74 \tTraining Loss: 0.327389 \tValidation Loss: 0.329213\n",
            "Epoch 75, Batch 1 loss: 0.145292\n",
            "Epoch: 75 \tTraining Loss: 0.367777 \tValidation Loss: 0.328779\n",
            "Epoch 76, Batch 1 loss: 0.540085\n",
            "Epoch: 76 \tTraining Loss: 0.328467 \tValidation Loss: 0.324375\n",
            "Epoch 77, Batch 1 loss: 0.451717\n",
            "Epoch: 77 \tTraining Loss: 0.320558 \tValidation Loss: 0.320496\n",
            "Epoch 78, Batch 1 loss: 0.302314\n",
            "Epoch: 78 \tTraining Loss: 0.348657 \tValidation Loss: 0.325105\n",
            "Epoch 79, Batch 1 loss: 0.249436\n",
            "Epoch: 79 \tTraining Loss: 0.346750 \tValidation Loss: 0.330605\n",
            "Epoch 80, Batch 1 loss: 0.147983\n",
            "Epoch: 80 \tTraining Loss: 0.306899 \tValidation Loss: 0.326039\n",
            "Epoch 81, Batch 1 loss: 0.376319\n",
            "Epoch: 81 \tTraining Loss: 0.328516 \tValidation Loss: 0.324442\n",
            "Epoch 82, Batch 1 loss: 0.236005\n",
            "Epoch: 82 \tTraining Loss: 0.342572 \tValidation Loss: 0.322560\n",
            "Epoch 83, Batch 1 loss: 0.286405\n",
            "Epoch: 83 \tTraining Loss: 0.367319 \tValidation Loss: 0.332315\n",
            "Epoch 84, Batch 1 loss: 0.227569\n",
            "Epoch: 84 \tTraining Loss: 0.342078 \tValidation Loss: 0.316641\n",
            "Epoch 85, Batch 1 loss: 0.123632\n",
            "Epoch: 85 \tTraining Loss: 0.325466 \tValidation Loss: 0.319305\n",
            "Epoch 86, Batch 1 loss: 0.276244\n",
            "Epoch: 86 \tTraining Loss: 0.356153 \tValidation Loss: 0.328532\n",
            "Epoch 87, Batch 1 loss: 0.509125\n",
            "Epoch: 87 \tTraining Loss: 0.324797 \tValidation Loss: 0.322774\n",
            "Epoch 88, Batch 1 loss: 0.229578\n",
            "Epoch: 88 \tTraining Loss: 0.352755 \tValidation Loss: 0.324734\n",
            "Epoch 89, Batch 1 loss: 0.272975\n",
            "Epoch: 89 \tTraining Loss: 0.354655 \tValidation Loss: 0.318783\n",
            "Epoch 90, Batch 1 loss: 0.234416\n",
            "Epoch: 90 \tTraining Loss: 0.335745 \tValidation Loss: 0.340407\n",
            "Epoch 91, Batch 1 loss: 0.265741\n",
            "Epoch: 91 \tTraining Loss: 0.345743 \tValidation Loss: 0.314875\n",
            "Validation loss decreased (0.315887 --> 0.314875).  Saving model ...\n",
            "Epoch 92, Batch 1 loss: 0.331511\n",
            "Epoch: 92 \tTraining Loss: 0.321679 \tValidation Loss: 0.320340\n",
            "Epoch 93, Batch 1 loss: 0.441190\n",
            "Epoch: 93 \tTraining Loss: 0.333681 \tValidation Loss: 0.331885\n",
            "Epoch 94, Batch 1 loss: 0.272049\n",
            "Epoch: 94 \tTraining Loss: 0.320476 \tValidation Loss: 0.312488\n",
            "Validation loss decreased (0.314875 --> 0.312488).  Saving model ...\n",
            "Epoch 95, Batch 1 loss: 0.367731\n",
            "Epoch: 95 \tTraining Loss: 0.324806 \tValidation Loss: 0.318734\n",
            "Epoch 96, Batch 1 loss: 0.302731\n",
            "Epoch: 96 \tTraining Loss: 0.324759 \tValidation Loss: 0.330735\n",
            "Epoch 97, Batch 1 loss: 0.461959\n",
            "Epoch: 97 \tTraining Loss: 0.324134 \tValidation Loss: 0.335009\n",
            "Epoch 98, Batch 1 loss: 0.539204\n",
            "Epoch: 98 \tTraining Loss: 0.332910 \tValidation Loss: 0.322488\n",
            "Epoch 99, Batch 1 loss: 0.331149\n",
            "Epoch: 99 \tTraining Loss: 0.347800 \tValidation Loss: 0.326667\n",
            "Epoch 100, Batch 1 loss: 0.374754\n",
            "Epoch: 100 \tTraining Loss: 0.322323 \tValidation Loss: 0.325143\n"
          ],
          "name": "stdout"
        },
        {
          "output_type": "execute_result",
          "data": {
            "text/plain": [
              "ResNet(\n",
              "  (conv1): Conv2d(3, 64, kernel_size=(7, 7), stride=(2, 2), padding=(3, 3), bias=False)\n",
              "  (bn1): BatchNorm2d(64, eps=1e-05, momentum=0.1, affine=True, track_running_stats=True)\n",
              "  (relu): ReLU(inplace=True)\n",
              "  (maxpool): MaxPool2d(kernel_size=3, stride=2, padding=1, dilation=1, ceil_mode=False)\n",
              "  (layer1): Sequential(\n",
              "    (0): Bottleneck(\n",
              "      (conv1): Conv2d(64, 64, kernel_size=(1, 1), stride=(1, 1), bias=False)\n",
              "      (bn1): BatchNorm2d(64, eps=1e-05, momentum=0.1, affine=True, track_running_stats=True)\n",
              "      (conv2): Conv2d(64, 64, kernel_size=(3, 3), stride=(1, 1), padding=(1, 1), bias=False)\n",
              "      (bn2): BatchNorm2d(64, eps=1e-05, momentum=0.1, affine=True, track_running_stats=True)\n",
              "      (conv3): Conv2d(64, 256, kernel_size=(1, 1), stride=(1, 1), bias=False)\n",
              "      (bn3): BatchNorm2d(256, eps=1e-05, momentum=0.1, affine=True, track_running_stats=True)\n",
              "      (relu): ReLU(inplace=True)\n",
              "      (downsample): Sequential(\n",
              "        (0): Conv2d(64, 256, kernel_size=(1, 1), stride=(1, 1), bias=False)\n",
              "        (1): BatchNorm2d(256, eps=1e-05, momentum=0.1, affine=True, track_running_stats=True)\n",
              "      )\n",
              "    )\n",
              "    (1): Bottleneck(\n",
              "      (conv1): Conv2d(256, 64, kernel_size=(1, 1), stride=(1, 1), bias=False)\n",
              "      (bn1): BatchNorm2d(64, eps=1e-05, momentum=0.1, affine=True, track_running_stats=True)\n",
              "      (conv2): Conv2d(64, 64, kernel_size=(3, 3), stride=(1, 1), padding=(1, 1), bias=False)\n",
              "      (bn2): BatchNorm2d(64, eps=1e-05, momentum=0.1, affine=True, track_running_stats=True)\n",
              "      (conv3): Conv2d(64, 256, kernel_size=(1, 1), stride=(1, 1), bias=False)\n",
              "      (bn3): BatchNorm2d(256, eps=1e-05, momentum=0.1, affine=True, track_running_stats=True)\n",
              "      (relu): ReLU(inplace=True)\n",
              "    )\n",
              "    (2): Bottleneck(\n",
              "      (conv1): Conv2d(256, 64, kernel_size=(1, 1), stride=(1, 1), bias=False)\n",
              "      (bn1): BatchNorm2d(64, eps=1e-05, momentum=0.1, affine=True, track_running_stats=True)\n",
              "      (conv2): Conv2d(64, 64, kernel_size=(3, 3), stride=(1, 1), padding=(1, 1), bias=False)\n",
              "      (bn2): BatchNorm2d(64, eps=1e-05, momentum=0.1, affine=True, track_running_stats=True)\n",
              "      (conv3): Conv2d(64, 256, kernel_size=(1, 1), stride=(1, 1), bias=False)\n",
              "      (bn3): BatchNorm2d(256, eps=1e-05, momentum=0.1, affine=True, track_running_stats=True)\n",
              "      (relu): ReLU(inplace=True)\n",
              "    )\n",
              "  )\n",
              "  (layer2): Sequential(\n",
              "    (0): Bottleneck(\n",
              "      (conv1): Conv2d(256, 128, kernel_size=(1, 1), stride=(1, 1), bias=False)\n",
              "      (bn1): BatchNorm2d(128, eps=1e-05, momentum=0.1, affine=True, track_running_stats=True)\n",
              "      (conv2): Conv2d(128, 128, kernel_size=(3, 3), stride=(2, 2), padding=(1, 1), bias=False)\n",
              "      (bn2): BatchNorm2d(128, eps=1e-05, momentum=0.1, affine=True, track_running_stats=True)\n",
              "      (conv3): Conv2d(128, 512, kernel_size=(1, 1), stride=(1, 1), bias=False)\n",
              "      (bn3): BatchNorm2d(512, eps=1e-05, momentum=0.1, affine=True, track_running_stats=True)\n",
              "      (relu): ReLU(inplace=True)\n",
              "      (downsample): Sequential(\n",
              "        (0): Conv2d(256, 512, kernel_size=(1, 1), stride=(2, 2), bias=False)\n",
              "        (1): BatchNorm2d(512, eps=1e-05, momentum=0.1, affine=True, track_running_stats=True)\n",
              "      )\n",
              "    )\n",
              "    (1): Bottleneck(\n",
              "      (conv1): Conv2d(512, 128, kernel_size=(1, 1), stride=(1, 1), bias=False)\n",
              "      (bn1): BatchNorm2d(128, eps=1e-05, momentum=0.1, affine=True, track_running_stats=True)\n",
              "      (conv2): Conv2d(128, 128, kernel_size=(3, 3), stride=(1, 1), padding=(1, 1), bias=False)\n",
              "      (bn2): BatchNorm2d(128, eps=1e-05, momentum=0.1, affine=True, track_running_stats=True)\n",
              "      (conv3): Conv2d(128, 512, kernel_size=(1, 1), stride=(1, 1), bias=False)\n",
              "      (bn3): BatchNorm2d(512, eps=1e-05, momentum=0.1, affine=True, track_running_stats=True)\n",
              "      (relu): ReLU(inplace=True)\n",
              "    )\n",
              "    (2): Bottleneck(\n",
              "      (conv1): Conv2d(512, 128, kernel_size=(1, 1), stride=(1, 1), bias=False)\n",
              "      (bn1): BatchNorm2d(128, eps=1e-05, momentum=0.1, affine=True, track_running_stats=True)\n",
              "      (conv2): Conv2d(128, 128, kernel_size=(3, 3), stride=(1, 1), padding=(1, 1), bias=False)\n",
              "      (bn2): BatchNorm2d(128, eps=1e-05, momentum=0.1, affine=True, track_running_stats=True)\n",
              "      (conv3): Conv2d(128, 512, kernel_size=(1, 1), stride=(1, 1), bias=False)\n",
              "      (bn3): BatchNorm2d(512, eps=1e-05, momentum=0.1, affine=True, track_running_stats=True)\n",
              "      (relu): ReLU(inplace=True)\n",
              "    )\n",
              "    (3): Bottleneck(\n",
              "      (conv1): Conv2d(512, 128, kernel_size=(1, 1), stride=(1, 1), bias=False)\n",
              "      (bn1): BatchNorm2d(128, eps=1e-05, momentum=0.1, affine=True, track_running_stats=True)\n",
              "      (conv2): Conv2d(128, 128, kernel_size=(3, 3), stride=(1, 1), padding=(1, 1), bias=False)\n",
              "      (bn2): BatchNorm2d(128, eps=1e-05, momentum=0.1, affine=True, track_running_stats=True)\n",
              "      (conv3): Conv2d(128, 512, kernel_size=(1, 1), stride=(1, 1), bias=False)\n",
              "      (bn3): BatchNorm2d(512, eps=1e-05, momentum=0.1, affine=True, track_running_stats=True)\n",
              "      (relu): ReLU(inplace=True)\n",
              "    )\n",
              "  )\n",
              "  (layer3): Sequential(\n",
              "    (0): Bottleneck(\n",
              "      (conv1): Conv2d(512, 256, kernel_size=(1, 1), stride=(1, 1), bias=False)\n",
              "      (bn1): BatchNorm2d(256, eps=1e-05, momentum=0.1, affine=True, track_running_stats=True)\n",
              "      (conv2): Conv2d(256, 256, kernel_size=(3, 3), stride=(2, 2), padding=(1, 1), bias=False)\n",
              "      (bn2): BatchNorm2d(256, eps=1e-05, momentum=0.1, affine=True, track_running_stats=True)\n",
              "      (conv3): Conv2d(256, 1024, kernel_size=(1, 1), stride=(1, 1), bias=False)\n",
              "      (bn3): BatchNorm2d(1024, eps=1e-05, momentum=0.1, affine=True, track_running_stats=True)\n",
              "      (relu): ReLU(inplace=True)\n",
              "      (downsample): Sequential(\n",
              "        (0): Conv2d(512, 1024, kernel_size=(1, 1), stride=(2, 2), bias=False)\n",
              "        (1): BatchNorm2d(1024, eps=1e-05, momentum=0.1, affine=True, track_running_stats=True)\n",
              "      )\n",
              "    )\n",
              "    (1): Bottleneck(\n",
              "      (conv1): Conv2d(1024, 256, kernel_size=(1, 1), stride=(1, 1), bias=False)\n",
              "      (bn1): BatchNorm2d(256, eps=1e-05, momentum=0.1, affine=True, track_running_stats=True)\n",
              "      (conv2): Conv2d(256, 256, kernel_size=(3, 3), stride=(1, 1), padding=(1, 1), bias=False)\n",
              "      (bn2): BatchNorm2d(256, eps=1e-05, momentum=0.1, affine=True, track_running_stats=True)\n",
              "      (conv3): Conv2d(256, 1024, kernel_size=(1, 1), stride=(1, 1), bias=False)\n",
              "      (bn3): BatchNorm2d(1024, eps=1e-05, momentum=0.1, affine=True, track_running_stats=True)\n",
              "      (relu): ReLU(inplace=True)\n",
              "    )\n",
              "    (2): Bottleneck(\n",
              "      (conv1): Conv2d(1024, 256, kernel_size=(1, 1), stride=(1, 1), bias=False)\n",
              "      (bn1): BatchNorm2d(256, eps=1e-05, momentum=0.1, affine=True, track_running_stats=True)\n",
              "      (conv2): Conv2d(256, 256, kernel_size=(3, 3), stride=(1, 1), padding=(1, 1), bias=False)\n",
              "      (bn2): BatchNorm2d(256, eps=1e-05, momentum=0.1, affine=True, track_running_stats=True)\n",
              "      (conv3): Conv2d(256, 1024, kernel_size=(1, 1), stride=(1, 1), bias=False)\n",
              "      (bn3): BatchNorm2d(1024, eps=1e-05, momentum=0.1, affine=True, track_running_stats=True)\n",
              "      (relu): ReLU(inplace=True)\n",
              "    )\n",
              "    (3): Bottleneck(\n",
              "      (conv1): Conv2d(1024, 256, kernel_size=(1, 1), stride=(1, 1), bias=False)\n",
              "      (bn1): BatchNorm2d(256, eps=1e-05, momentum=0.1, affine=True, track_running_stats=True)\n",
              "      (conv2): Conv2d(256, 256, kernel_size=(3, 3), stride=(1, 1), padding=(1, 1), bias=False)\n",
              "      (bn2): BatchNorm2d(256, eps=1e-05, momentum=0.1, affine=True, track_running_stats=True)\n",
              "      (conv3): Conv2d(256, 1024, kernel_size=(1, 1), stride=(1, 1), bias=False)\n",
              "      (bn3): BatchNorm2d(1024, eps=1e-05, momentum=0.1, affine=True, track_running_stats=True)\n",
              "      (relu): ReLU(inplace=True)\n",
              "    )\n",
              "    (4): Bottleneck(\n",
              "      (conv1): Conv2d(1024, 256, kernel_size=(1, 1), stride=(1, 1), bias=False)\n",
              "      (bn1): BatchNorm2d(256, eps=1e-05, momentum=0.1, affine=True, track_running_stats=True)\n",
              "      (conv2): Conv2d(256, 256, kernel_size=(3, 3), stride=(1, 1), padding=(1, 1), bias=False)\n",
              "      (bn2): BatchNorm2d(256, eps=1e-05, momentum=0.1, affine=True, track_running_stats=True)\n",
              "      (conv3): Conv2d(256, 1024, kernel_size=(1, 1), stride=(1, 1), bias=False)\n",
              "      (bn3): BatchNorm2d(1024, eps=1e-05, momentum=0.1, affine=True, track_running_stats=True)\n",
              "      (relu): ReLU(inplace=True)\n",
              "    )\n",
              "    (5): Bottleneck(\n",
              "      (conv1): Conv2d(1024, 256, kernel_size=(1, 1), stride=(1, 1), bias=False)\n",
              "      (bn1): BatchNorm2d(256, eps=1e-05, momentum=0.1, affine=True, track_running_stats=True)\n",
              "      (conv2): Conv2d(256, 256, kernel_size=(3, 3), stride=(1, 1), padding=(1, 1), bias=False)\n",
              "      (bn2): BatchNorm2d(256, eps=1e-05, momentum=0.1, affine=True, track_running_stats=True)\n",
              "      (conv3): Conv2d(256, 1024, kernel_size=(1, 1), stride=(1, 1), bias=False)\n",
              "      (bn3): BatchNorm2d(1024, eps=1e-05, momentum=0.1, affine=True, track_running_stats=True)\n",
              "      (relu): ReLU(inplace=True)\n",
              "    )\n",
              "  )\n",
              "  (layer4): Sequential(\n",
              "    (0): Bottleneck(\n",
              "      (conv1): Conv2d(1024, 512, kernel_size=(1, 1), stride=(1, 1), bias=False)\n",
              "      (bn1): BatchNorm2d(512, eps=1e-05, momentum=0.1, affine=True, track_running_stats=True)\n",
              "      (conv2): Conv2d(512, 512, kernel_size=(3, 3), stride=(2, 2), padding=(1, 1), bias=False)\n",
              "      (bn2): BatchNorm2d(512, eps=1e-05, momentum=0.1, affine=True, track_running_stats=True)\n",
              "      (conv3): Conv2d(512, 2048, kernel_size=(1, 1), stride=(1, 1), bias=False)\n",
              "      (bn3): BatchNorm2d(2048, eps=1e-05, momentum=0.1, affine=True, track_running_stats=True)\n",
              "      (relu): ReLU(inplace=True)\n",
              "      (downsample): Sequential(\n",
              "        (0): Conv2d(1024, 2048, kernel_size=(1, 1), stride=(2, 2), bias=False)\n",
              "        (1): BatchNorm2d(2048, eps=1e-05, momentum=0.1, affine=True, track_running_stats=True)\n",
              "      )\n",
              "    )\n",
              "    (1): Bottleneck(\n",
              "      (conv1): Conv2d(2048, 512, kernel_size=(1, 1), stride=(1, 1), bias=False)\n",
              "      (bn1): BatchNorm2d(512, eps=1e-05, momentum=0.1, affine=True, track_running_stats=True)\n",
              "      (conv2): Conv2d(512, 512, kernel_size=(3, 3), stride=(1, 1), padding=(1, 1), bias=False)\n",
              "      (bn2): BatchNorm2d(512, eps=1e-05, momentum=0.1, affine=True, track_running_stats=True)\n",
              "      (conv3): Conv2d(512, 2048, kernel_size=(1, 1), stride=(1, 1), bias=False)\n",
              "      (bn3): BatchNorm2d(2048, eps=1e-05, momentum=0.1, affine=True, track_running_stats=True)\n",
              "      (relu): ReLU(inplace=True)\n",
              "    )\n",
              "    (2): Bottleneck(\n",
              "      (conv1): Conv2d(2048, 512, kernel_size=(1, 1), stride=(1, 1), bias=False)\n",
              "      (bn1): BatchNorm2d(512, eps=1e-05, momentum=0.1, affine=True, track_running_stats=True)\n",
              "      (conv2): Conv2d(512, 512, kernel_size=(3, 3), stride=(1, 1), padding=(1, 1), bias=False)\n",
              "      (bn2): BatchNorm2d(512, eps=1e-05, momentum=0.1, affine=True, track_running_stats=True)\n",
              "      (conv3): Conv2d(512, 2048, kernel_size=(1, 1), stride=(1, 1), bias=False)\n",
              "      (bn3): BatchNorm2d(2048, eps=1e-05, momentum=0.1, affine=True, track_running_stats=True)\n",
              "      (relu): ReLU(inplace=True)\n",
              "    )\n",
              "  )\n",
              "  (avgpool): AdaptiveAvgPool2d(output_size=(1, 1))\n",
              "  (fc): Linear(in_features=2048, out_features=2, bias=True)\n",
              ")"
            ]
          },
          "metadata": {
            "tags": []
          },
          "execution_count": 19
        }
      ]
    },
    {
      "cell_type": "code",
      "metadata": {
        "colab": {
          "base_uri": "https://localhost:8080/"
        },
        "id": "1MiG4jtBJYB-",
        "outputId": "4defcdab-256c-48ff-c68d-b8b86b6315ef"
      },
      "source": [
        "class_names = loaders_transfer['train'].dataset.classes\r\n",
        "print(class_names)"
      ],
      "execution_count": null,
      "outputs": [
        {
          "output_type": "stream",
          "text": [
            "['safe', 'unsafe']\n"
          ],
          "name": "stdout"
        }
      ]
    },
    {
      "cell_type": "code",
      "metadata": {
        "id": "bXbVEff_UTOk"
      },
      "source": [
        "from PIL import Image\r\n",
        "import torchvision.transforms as transforms\r\n",
        "\r\n",
        "def load_input_image(img_path):    \r\n",
        "    image = Image.open(img_path).convert('RGB')\r\n",
        "    prediction_transform = transforms.Compose([transforms.Resize(size=(224, 224)),\r\n",
        "                                     transforms.ToTensor(), \r\n",
        "                                     standard_normalization])\r\n",
        "\r\n",
        "    # discard the transparent, alpha channel (that's the :3) and add the batch dimension\r\n",
        "    image = prediction_transform(image)[:3,:,:].unsqueeze(0)\r\n",
        "    return image"
      ],
      "execution_count": null,
      "outputs": []
    },
    {
      "cell_type": "code",
      "metadata": {
        "id": "Kx8dvFp4UWvv"
      },
      "source": [
        "\r\n",
        "def predict_image(model, class_names, img_path):\r\n",
        "    # load the image and return the predicted breed\r\n",
        "    img = load_input_image(img_path)\r\n",
        "    model = model.cpu()\r\n",
        "    model.eval()\r\n",
        "    idx = torch.argmax(model(img))\r\n",
        "    return class_names[idx]"
      ],
      "execution_count": null,
      "outputs": []
    },
    {
      "cell_type": "code",
      "metadata": {
        "id": "-yPNWdwLUdm_"
      },
      "source": [
        "import matplotlib.pyplot as plt                        \r\n",
        "%matplotlib inline  \r\n",
        "\r\n",
        "def run_app(img_path):\r\n",
        "    \r\n",
        "    img = Image.open(img_path)\r\n",
        "    plt.imshow(img)\r\n",
        "    plt.show()\r\n",
        "    \r\n",
        "    prediction = predict_image(model_transfer, class_names, img_path)\r\n",
        "        \r\n",
        "    return prediction"
      ],
      "execution_count": null,
      "outputs": []
    },
    {
      "cell_type": "code",
      "metadata": {
        "colab": {
          "base_uri": "https://localhost:8080/",
          "height": 287
        },
        "id": "upSzLG2wUhVf",
        "outputId": "ef4d963f-4073-498f-b33e-c302e9c7d050"
      },
      "source": [
        "run_app(\"/content/drive/MyDrive/projects/violence/dataset/train/safe/49152357-group-of-casual-people-social-gathering-concept.jpg\")"
      ],
      "execution_count": null,
      "outputs": [
        {
          "output_type": "display_data",
          "data": {
            "image/png": "[encoded data removed]",
            "text/plain": [
              "<Figure size 432x288 with 1 Axes>"
            ]
          },
          "metadata": {
            "tags": [],
            "needs_background": "light"
          }
        },
        {
          "output_type": "execute_result",
          "data": {
            "application/vnd.google.colaboratory.intrinsic+json": {
              "type": "string"
            },
            "text/plain": [
              "'safe'"
            ]
          },
          "metadata": {
            "tags": []
          },
          "execution_count": 29
        }
      ]
    },
    {
      "cell_type": "code",
      "metadata": {
        "id": "T6zLNzsvUqZf"
      },
      "source": [
        "#---------#\r\n",
        "#---------#\r\n"
      ],
      "execution_count": null,
      "outputs": []
    },
    {
      "cell_type": "code",
      "metadata": {
        "id": "OPBmtxa-o_fd"
      },
      "source": [
        "import torch\r\n",
        "from PIL import Image\r\n",
        "import torchvision.transforms as transforms"
      ],
      "execution_count": null,
      "outputs": []
    },
    {
      "cell_type": "code",
      "metadata": {
        "id": "gWvWwfugsuZp"
      },
      "source": [
        "filepath = \"final_transfer.pt\""
      ],
      "execution_count": null,
      "outputs": []
    },
    {
      "cell_type": "code",
      "metadata": {
        "id": "FiLyLfvQtJI7"
      },
      "source": [
        "model = torch.load(filepath)"
      ],
      "execution_count": null,
      "outputs": []
    },
    {
      "cell_type": "code",
      "metadata": {
        "id": "Hh8qnIr2pCVM"
      },
      "source": [
        "finalmodel = model_transfer.load_state_dict(torch.load(filepath,map_location='cpu'))"
      ],
      "execution_count": null,
      "outputs": []
    },
    {
      "cell_type": "code",
      "metadata": {
        "id": "sewyEKxFqem4"
      },
      "source": [
        "standard_normalization = transforms.Normalize(mean=[0.485, 0.456, 0.406],\r\n",
        "                                              std=[0.229, 0.224, 0.225])"
      ],
      "execution_count": null,
      "outputs": []
    },
    {
      "cell_type": "code",
      "metadata": {
        "id": "JPqF5G0hpIG9"
      },
      "source": [
        "def load_input_image(img_path):    \r\n",
        "    image = Image.open(img_path).convert('RGB')\r\n",
        "    prediction_transform = transforms.Compose([transforms.Resize(size=(224, 224)),\r\n",
        "                                     transforms.ToTensor(), \r\n",
        "                                     standard_normalization])\r\n",
        "\r\n",
        "   \r\n",
        "    image = prediction_transform(image)[:3,:,:].unsqueeze(0)\r\n",
        "    return image"
      ],
      "execution_count": null,
      "outputs": []
    },
    {
      "cell_type": "code",
      "metadata": {
        "id": "xllTs9YCpl1F"
      },
      "source": [
        "def predict_image(model, class_names, img_path):\r\n",
        "    # load the image and return the predicted breed\r\n",
        "    img = load_input_image(img_path)\r\n",
        "    #model = model.cpu()\r\n",
        "    model.eval()\r\n",
        "    idx = torch.argmax(model(img))\r\n",
        "    return [\"\",\"\"][idx]"
      ],
      "execution_count": null,
      "outputs": []
    },
    {
      "cell_type": "code",
      "metadata": {
        "id": "pYNM20ZVp-3g"
      },
      "source": [
        "import matplotlib.pyplot as plt                        \r\n",
        "%matplotlib inline  \r\n",
        "\r\n",
        "def run_app(img_path):\r\n",
        "    \r\n",
        "    img = Image.open(img_path)\r\n",
        "    plt.imshow(img)\r\n",
        "    plt.show()\r\n",
        "    \r\n",
        "    prediction = predict_image(finalmodel, [], img_path)\r\n",
        "        \r\n",
        "    return prediction"
      ],
      "execution_count": null,
      "outputs": []
    },
    {
      "cell_type": "code",
      "metadata": {
        "id": "8FcHTTsbqBoc"
      },
      "source": [
        ""
      ],
      "execution_count": null,
      "outputs": []
    },
    {
      "cell_type": "code",
      "metadata": {
        "id": "Nqh5gdEMqK70"
      },
      "source": [
        ""
      ],
      "execution_count": null,
      "outputs": []
    }
  ]
}